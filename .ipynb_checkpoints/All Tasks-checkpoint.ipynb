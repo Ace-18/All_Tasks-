{
 "cells": [
  {
   "cell_type": "markdown",
   "id": "057df337",
   "metadata": {},
   "source": [
    "<h1>Session 8</h1>\n",
    "<h3>Task 3: Downloading YouTube Video</h3>"
   ]
  },
  {
   "cell_type": "code",
   "execution_count": 1,
   "id": "a5f787cb",
   "metadata": {
    "ExecuteTime": {
     "end_time": "2022-02-24T12:01:36.349648Z",
     "start_time": "2022-02-24T12:01:36.257701Z"
    }
   },
   "outputs": [],
   "source": [
    "from pytube import YouTube #pytube should be installed using conda or pip before importing "
   ]
  },
  {
   "cell_type": "code",
   "execution_count": 2,
   "id": "0f8b1f1d",
   "metadata": {
    "ExecuteTime": {
     "end_time": "2022-02-24T12:01:38.699469Z",
     "start_time": "2022-02-24T12:01:38.689473Z"
    }
   },
   "outputs": [],
   "source": [
    "link=\"https://www.youtube.com/watch?v=k4HlfCR2Wvk\"\n",
    "video=YouTube(link)"
   ]
  },
  {
   "cell_type": "code",
   "execution_count": null,
   "id": "3f194c05",
   "metadata": {},
   "outputs": [],
   "source": [
    "stream360=video.streams.get_by_resolution(resolution=\"360p\") #specifying stream to download (using 360 resolution in this case)\n",
    "stream360.download() #video saved in same directory"
   ]
  },
  {
   "cell_type": "code",
   "execution_count": null,
   "id": "371328f5",
   "metadata": {},
   "outputs": [],
   "source": [
    "#To specify where video will be saved\n",
    "path=\"C:/Users/HP 15/Desktop/Instant_Task/Datasets\"\n",
    "stream360.download(output_path= path)"
   ]
  },
  {
   "cell_type": "markdown",
   "id": "c616fd80",
   "metadata": {},
   "source": [
    "<h3>Task 4: Web Scrapping</h3>"
   ]
  },
  {
   "cell_type": "code",
   "execution_count": 3,
   "id": "7c51a72c",
   "metadata": {
    "ExecuteTime": {
     "end_time": "2022-02-24T12:01:44.277990Z",
     "start_time": "2022-02-24T12:01:43.745511Z"
    }
   },
   "outputs": [],
   "source": [
    "import requests\n",
    "from bs4 import BeautifulSoup\n",
    "import csv"
   ]
  },
  {
   "cell_type": "code",
   "execution_count": 4,
   "id": "b2bb6f0d",
   "metadata": {
    "ExecuteTime": {
     "end_time": "2022-02-24T12:01:45.910520Z",
     "start_time": "2022-02-24T12:01:45.887513Z"
    }
   },
   "outputs": [
    {
     "data": {
      "text/plain": [
       "34"
      ]
     },
     "execution_count": 4,
     "metadata": {},
     "output_type": "execute_result"
    }
   ],
   "source": [
    "csvfile = open ('scrape_task4.csv', 'w', encoding='utf-8') # w = write into the file , general way of representing data \n",
    "writer = csv.writer(csvfile)\n",
    "writer.writerow(['Chapter Number','Chapter Name' 'PART1']) #Adding columns' names"
   ]
  },
  {
   "cell_type": "code",
   "execution_count": 5,
   "id": "060fa51a",
   "metadata": {
    "ExecuteTime": {
     "end_time": "2022-02-24T12:01:49.597933Z",
     "start_time": "2022-02-24T12:01:49.592936Z"
    }
   },
   "outputs": [],
   "source": [
    "link=\"https://witchculttranslation.com/2019/10/07/arc-6-chapter-71-count-one/\" #In this task novel chapters were scrapped "
   ]
  },
  {
   "cell_type": "code",
   "execution_count": 6,
   "id": "c5082f38",
   "metadata": {
    "ExecuteTime": {
     "end_time": "2022-02-24T12:02:00.871592Z",
     "start_time": "2022-02-24T12:01:50.805562Z"
    }
   },
   "outputs": [],
   "source": [
    "for a in range(10):    # scrapping 10 pages\n",
    "    source=requests.get(link).text\n",
    "    soup=BeautifulSoup(source,\"lxml\")\n",
    "\n",
    "    chapter=soup.title.text.split(\"|\")[0].split(\"–\")\n",
    "    chapter_number=chapter[1].split(\",\")[0].strip()\n",
    "    chapter_name=_number=chapter[1].split(\",\")[1].strip()\n",
    "\n",
    "    y=soup.find('div', class_=\"entry-content\")\n",
    "    z=0\n",
    "    x=0\n",
    "    part1=\"\"\n",
    "    for i in y: \n",
    "        if str(type(i))== \"<class 'bs4.element.Tag'>\" :\n",
    "            if \"※\" in (i.text.strip()) or \"△▼\" in (i.text.strip()):\n",
    "                if x>2:\n",
    "                    break\n",
    "                else:\n",
    "                    x+=1\n",
    "                    continue\n",
    "            elif x==3:\n",
    "                part1+=i.text.strip()+\"\\n\"\n",
    "\n",
    "    writer.writerow([chapter_number,chapter_name ,part1 ])\n",
    "\n",
    "    link=soup.find(\"div\",class_=\"nav-next\").a.attrs[\"href\"]\n",
    "\n",
    "csvfile.close()"
   ]
  },
  {
   "cell_type": "markdown",
   "id": "7d076f99",
   "metadata": {},
   "source": [
    "<h3>Task 5: Using selenium and webdriver, login GitHub</h3> "
   ]
  },
  {
   "cell_type": "code",
   "execution_count": 7,
   "id": "e5b8cc2d",
   "metadata": {
    "ExecuteTime": {
     "end_time": "2022-02-24T12:02:01.669219Z",
     "start_time": "2022-02-24T12:02:00.871592Z"
    }
   },
   "outputs": [
    {
     "ename": "WebDriverException",
     "evalue": "Message: 'chromedriver' executable needs to be in PATH. Please see https://sites.google.com/a/chromium.org/chromedriver/home\n",
     "output_type": "error",
     "traceback": [
      "\u001b[1;31m---------------------------------------------------------------------------\u001b[0m",
      "\u001b[1;31mFileNotFoundError\u001b[0m                         Traceback (most recent call last)",
      "\u001b[1;32mC:\\ProgramData\\Anaconda3\\lib\\site-packages\\selenium\\webdriver\\common\\service.py\u001b[0m in \u001b[0;36mstart\u001b[1;34m(self)\u001b[0m\n\u001b[0;32m     71\u001b[0m             \u001b[0mcmd\u001b[0m\u001b[1;33m.\u001b[0m\u001b[0mextend\u001b[0m\u001b[1;33m(\u001b[0m\u001b[0mself\u001b[0m\u001b[1;33m.\u001b[0m\u001b[0mcommand_line_args\u001b[0m\u001b[1;33m(\u001b[0m\u001b[1;33m)\u001b[0m\u001b[1;33m)\u001b[0m\u001b[1;33m\u001b[0m\u001b[1;33m\u001b[0m\u001b[0m\n\u001b[1;32m---> 72\u001b[1;33m             self.process = subprocess.Popen(cmd, env=self.env,\n\u001b[0m\u001b[0;32m     73\u001b[0m                                             \u001b[0mclose_fds\u001b[0m\u001b[1;33m=\u001b[0m\u001b[0mplatform\u001b[0m\u001b[1;33m.\u001b[0m\u001b[0msystem\u001b[0m\u001b[1;33m(\u001b[0m\u001b[1;33m)\u001b[0m \u001b[1;33m!=\u001b[0m \u001b[1;34m'Windows'\u001b[0m\u001b[1;33m,\u001b[0m\u001b[1;33m\u001b[0m\u001b[1;33m\u001b[0m\u001b[0m\n",
      "\u001b[1;32mC:\\ProgramData\\Anaconda3\\lib\\subprocess.py\u001b[0m in \u001b[0;36m__init__\u001b[1;34m(self, args, bufsize, executable, stdin, stdout, stderr, preexec_fn, close_fds, shell, cwd, env, universal_newlines, startupinfo, creationflags, restore_signals, start_new_session, pass_fds, encoding, errors, text)\u001b[0m\n\u001b[0;32m    857\u001b[0m \u001b[1;33m\u001b[0m\u001b[0m\n\u001b[1;32m--> 858\u001b[1;33m             self._execute_child(args, executable, preexec_fn, close_fds,\n\u001b[0m\u001b[0;32m    859\u001b[0m                                 \u001b[0mpass_fds\u001b[0m\u001b[1;33m,\u001b[0m \u001b[0mcwd\u001b[0m\u001b[1;33m,\u001b[0m \u001b[0menv\u001b[0m\u001b[1;33m,\u001b[0m\u001b[1;33m\u001b[0m\u001b[1;33m\u001b[0m\u001b[0m\n",
      "\u001b[1;32mC:\\ProgramData\\Anaconda3\\lib\\subprocess.py\u001b[0m in \u001b[0;36m_execute_child\u001b[1;34m(self, args, executable, preexec_fn, close_fds, pass_fds, cwd, env, startupinfo, creationflags, shell, p2cread, p2cwrite, c2pread, c2pwrite, errread, errwrite, unused_restore_signals, unused_start_new_session)\u001b[0m\n\u001b[0;32m   1310\u001b[0m             \u001b[1;32mtry\u001b[0m\u001b[1;33m:\u001b[0m\u001b[1;33m\u001b[0m\u001b[1;33m\u001b[0m\u001b[0m\n\u001b[1;32m-> 1311\u001b[1;33m                 hp, ht, pid, tid = _winapi.CreateProcess(executable, args,\n\u001b[0m\u001b[0;32m   1312\u001b[0m                                          \u001b[1;31m# no special security\u001b[0m\u001b[1;33m\u001b[0m\u001b[1;33m\u001b[0m\u001b[1;33m\u001b[0m\u001b[0m\n",
      "\u001b[1;31mFileNotFoundError\u001b[0m: [WinError 2] The system cannot find the file specified",
      "\nDuring handling of the above exception, another exception occurred:\n",
      "\u001b[1;31mWebDriverException\u001b[0m                        Traceback (most recent call last)",
      "\u001b[1;32m<ipython-input-7-160bda6b6088>\u001b[0m in \u001b[0;36m<module>\u001b[1;34m\u001b[0m\n\u001b[0;32m      4\u001b[0m \u001b[0mpassword\u001b[0m\u001b[1;33m=\u001b[0m\u001b[1;34m\"\"\u001b[0m\u001b[1;33m\u001b[0m\u001b[1;33m\u001b[0m\u001b[0m\n\u001b[0;32m      5\u001b[0m \u001b[1;33m\u001b[0m\u001b[0m\n\u001b[1;32m----> 6\u001b[1;33m \u001b[0mdriver\u001b[0m\u001b[1;33m=\u001b[0m\u001b[0mwebdriver\u001b[0m\u001b[1;33m.\u001b[0m\u001b[0mChrome\u001b[0m\u001b[1;33m(\u001b[0m\u001b[1;33m)\u001b[0m\u001b[1;33m\u001b[0m\u001b[1;33m\u001b[0m\u001b[0m\n\u001b[0m\u001b[0;32m      7\u001b[0m \u001b[0mdriver\u001b[0m\u001b[1;33m.\u001b[0m\u001b[0mget\u001b[0m\u001b[1;33m(\u001b[0m\u001b[1;34m\"https://github.com/login\"\u001b[0m\u001b[1;33m)\u001b[0m\u001b[1;33m\u001b[0m\u001b[1;33m\u001b[0m\u001b[0m\n\u001b[0;32m      8\u001b[0m \u001b[1;33m\u001b[0m\u001b[0m\n",
      "\u001b[1;32mC:\\ProgramData\\Anaconda3\\lib\\site-packages\\selenium\\webdriver\\chrome\\webdriver.py\u001b[0m in \u001b[0;36m__init__\u001b[1;34m(self, executable_path, port, options, service_args, desired_capabilities, service_log_path, chrome_options, keep_alive)\u001b[0m\n\u001b[0;32m     71\u001b[0m             \u001b[0mservice_args\u001b[0m\u001b[1;33m=\u001b[0m\u001b[0mservice_args\u001b[0m\u001b[1;33m,\u001b[0m\u001b[1;33m\u001b[0m\u001b[1;33m\u001b[0m\u001b[0m\n\u001b[0;32m     72\u001b[0m             log_path=service_log_path)\n\u001b[1;32m---> 73\u001b[1;33m         \u001b[0mself\u001b[0m\u001b[1;33m.\u001b[0m\u001b[0mservice\u001b[0m\u001b[1;33m.\u001b[0m\u001b[0mstart\u001b[0m\u001b[1;33m(\u001b[0m\u001b[1;33m)\u001b[0m\u001b[1;33m\u001b[0m\u001b[1;33m\u001b[0m\u001b[0m\n\u001b[0m\u001b[0;32m     74\u001b[0m \u001b[1;33m\u001b[0m\u001b[0m\n\u001b[0;32m     75\u001b[0m         \u001b[1;32mtry\u001b[0m\u001b[1;33m:\u001b[0m\u001b[1;33m\u001b[0m\u001b[1;33m\u001b[0m\u001b[0m\n",
      "\u001b[1;32mC:\\ProgramData\\Anaconda3\\lib\\site-packages\\selenium\\webdriver\\common\\service.py\u001b[0m in \u001b[0;36mstart\u001b[1;34m(self)\u001b[0m\n\u001b[0;32m     79\u001b[0m         \u001b[1;32mexcept\u001b[0m \u001b[0mOSError\u001b[0m \u001b[1;32mas\u001b[0m \u001b[0merr\u001b[0m\u001b[1;33m:\u001b[0m\u001b[1;33m\u001b[0m\u001b[1;33m\u001b[0m\u001b[0m\n\u001b[0;32m     80\u001b[0m             \u001b[1;32mif\u001b[0m \u001b[0merr\u001b[0m\u001b[1;33m.\u001b[0m\u001b[0merrno\u001b[0m \u001b[1;33m==\u001b[0m \u001b[0merrno\u001b[0m\u001b[1;33m.\u001b[0m\u001b[0mENOENT\u001b[0m\u001b[1;33m:\u001b[0m\u001b[1;33m\u001b[0m\u001b[1;33m\u001b[0m\u001b[0m\n\u001b[1;32m---> 81\u001b[1;33m                 raise WebDriverException(\n\u001b[0m\u001b[0;32m     82\u001b[0m                     \"'%s' executable needs to be in PATH. %s\" % (\n\u001b[0;32m     83\u001b[0m                         os.path.basename(self.path), self.start_error_message)\n",
      "\u001b[1;31mWebDriverException\u001b[0m: Message: 'chromedriver' executable needs to be in PATH. Please see https://sites.google.com/a/chromium.org/chromedriver/home\n"
     ]
    }
   ],
   "source": [
    "from selenium import webdriver #install driver before importing\n",
    "\n",
    "username=\"\"\n",
    "password=\"\"\n",
    "\n",
    "driver=webdriver.Chrome()\n",
    "driver.get(\"https://github.com/login\")\n",
    "\n",
    "driver.find_element_by_id(\"login_field\").send_keys(username)\n",
    "driver.find_element_by_id(\"password\").send_keys(password)\n",
    "\n",
    "driver.find_element_by_name(\"commit\").click()"
   ]
  },
  {
   "cell_type": "markdown",
   "id": "3d5aee75",
   "metadata": {},
   "source": [
    "<h1>Session 9</h1>\n",
    "<h3>Task: Regular expressions</h3>"
   ]
  },
  {
   "cell_type": "code",
   "execution_count": null,
   "id": "da1cd1a4",
   "metadata": {
    "ExecuteTime": {
     "end_time": "2022-02-24T12:02:01.673217Z",
     "start_time": "2022-02-24T12:01:57.500Z"
    }
   },
   "outputs": [],
   "source": [
    "import re\n",
    "\n",
    "text=\"abc^_^ 123` 435 \"\n",
    "pattern=re.compile(\"[\\[-`]{3}\")\n",
    "\n",
    "matches=pattern.finditer(text)\n",
    "\n",
    "for m in matches:\n",
    "    print(m)"
   ]
  },
  {
   "cell_type": "markdown",
   "id": "0c92b39f",
   "metadata": {},
   "source": [
    "<h1>Session 10</h1>\n",
    "<h3>Task: Scrapping subscribed channels on YouTube</h3>"
   ]
  },
  {
   "cell_type": "code",
   "execution_count": null,
   "id": "ad7cfe79",
   "metadata": {
    "ExecuteTime": {
     "end_time": "2022-02-24T12:02:01.676214Z",
     "start_time": "2022-02-24T12:01:59.543Z"
    }
   },
   "outputs": [],
   "source": [
    "from bs4 import BeautifulSoup\n",
    "import csv"
   ]
  },
  {
   "cell_type": "code",
   "execution_count": null,
   "id": "ab52c2c4",
   "metadata": {
    "ExecuteTime": {
     "end_time": "2022-02-24T12:02:01.679210Z",
     "start_time": "2022-02-24T12:02:00.963Z"
    }
   },
   "outputs": [],
   "source": [
    "csvfile = open ('Subscriptions.csv', 'w', encoding='utf-8')\n",
    "writer = csv.writer(csvfile)\n",
    "writer.writerow(['Channel Name','Channel Link'])"
   ]
  },
  {
   "cell_type": "code",
   "execution_count": 8,
   "id": "18779649",
   "metadata": {
    "ExecuteTime": {
     "end_time": "2022-02-24T12:02:02.450324Z",
     "start_time": "2022-02-24T12:02:02.417343Z"
    }
   },
   "outputs": [
    {
     "ename": "FileNotFoundError",
     "evalue": "[Errno 2] No such file or directory: 'Channel list.html'",
     "output_type": "error",
     "traceback": [
      "\u001b[1;31m---------------------------------------------------------------------------\u001b[0m",
      "\u001b[1;31mFileNotFoundError\u001b[0m                         Traceback (most recent call last)",
      "\u001b[1;32m<ipython-input-8-60dfdee08450>\u001b[0m in \u001b[0;36m<module>\u001b[1;34m\u001b[0m\n\u001b[1;32m----> 1\u001b[1;33m \u001b[1;32mwith\u001b[0m \u001b[0mopen\u001b[0m \u001b[1;33m(\u001b[0m\u001b[1;34m\"Channel list.html\"\u001b[0m\u001b[1;33m,\u001b[0m\u001b[0mencoding\u001b[0m\u001b[1;33m=\u001b[0m\u001b[1;34m'UTF-8'\u001b[0m\u001b[1;33m)\u001b[0m \u001b[1;32mas\u001b[0m \u001b[0mhtml_file\u001b[0m\u001b[1;33m:\u001b[0m   \u001b[1;31m#Subcriptions page was saved as html (Channel list.html)\u001b[0m\u001b[1;33m\u001b[0m\u001b[1;33m\u001b[0m\u001b[0m\n\u001b[0m\u001b[0;32m      2\u001b[0m     \u001b[0msoup\u001b[0m\u001b[1;33m=\u001b[0m\u001b[0mBeautifulSoup\u001b[0m\u001b[1;33m(\u001b[0m\u001b[0mhtml_file\u001b[0m\u001b[1;33m,\u001b[0m\u001b[1;34m'lxml'\u001b[0m\u001b[1;33m)\u001b[0m\u001b[1;33m\u001b[0m\u001b[1;33m\u001b[0m\u001b[0m\n",
      "\u001b[1;31mFileNotFoundError\u001b[0m: [Errno 2] No such file or directory: 'Channel list.html'"
     ]
    }
   ],
   "source": [
    "with open (\"Channel list.html\",encoding='UTF-8') as html_file:   #Subcriptions page was saved as html (Channel list.html)\n",
    "    soup=BeautifulSoup(html_file,'lxml')    "
   ]
  },
  {
   "cell_type": "code",
   "execution_count": 9,
   "id": "99776a3d",
   "metadata": {
    "ExecuteTime": {
     "end_time": "2022-02-24T12:02:07.657846Z",
     "start_time": "2022-02-24T12:02:07.644846Z"
    }
   },
   "outputs": [],
   "source": [
    "channels=soup.find_all('div',{\"id\":\"content-section\"})\n",
    "\n",
    "for channel in channels:\n",
    "    \n",
    "    c_name=channel.find('yt-formatted-string').text\n",
    "    c_link=channel.a['href']\n",
    "    writer.writerow([c_name,c_link])\n",
    "    print(c_name)\n",
    "    \n",
    "csvfile.close()    "
   ]
  },
  {
   "cell_type": "markdown",
   "id": "cdfd139a",
   "metadata": {},
   "source": [
    "<h1>Session 17</h1>"
   ]
  },
  {
   "cell_type": "code",
   "execution_count": 10,
   "id": "750be79d",
   "metadata": {
    "ExecuteTime": {
     "end_time": "2022-02-24T12:02:12.884227Z",
     "start_time": "2022-02-24T12:02:10.834359Z"
    }
   },
   "outputs": [],
   "source": [
    "import pandas as pd\n",
    "import numpy as np"
   ]
  },
  {
   "cell_type": "markdown",
   "id": "f32e90ab",
   "metadata": {},
   "source": [
    "<h3>Task 3: Max and Min for numerical data types in numpy arrays</h3>"
   ]
  },
  {
   "cell_type": "code",
   "execution_count": 13,
   "id": "505ed382",
   "metadata": {
    "ExecuteTime": {
     "end_time": "2022-02-24T12:02:52.936212Z",
     "start_time": "2022-02-24T12:02:52.923221Z"
    }
   },
   "outputs": [
    {
     "name": "stdout",
     "output_type": "stream",
     "text": [
      "-65504.0 to 65504.0\n"
     ]
    }
   ],
   "source": [
    "data='float16' #Enter data type \n",
    "\n",
    "print(f'{np.finfo(data).min} to {np.finfo(data).max}') #if int use np.iinfo(), if float use finfo() "
   ]
  },
  {
   "cell_type": "markdown",
   "id": "7b457029",
   "metadata": {},
   "source": [
    "<h3>Task 4: How to read random rows</h3>"
   ]
  },
  {
   "cell_type": "code",
   "execution_count": 14,
   "id": "6fb3c034",
   "metadata": {
    "ExecuteTime": {
     "end_time": "2022-02-24T12:02:56.035676Z",
     "start_time": "2022-02-24T12:02:55.960720Z"
    }
   },
   "outputs": [
    {
     "data": {
      "text/html": [
       "<div>\n",
       "<style scoped>\n",
       "    .dataframe tbody tr th:only-of-type {\n",
       "        vertical-align: middle;\n",
       "    }\n",
       "\n",
       "    .dataframe tbody tr th {\n",
       "        vertical-align: top;\n",
       "    }\n",
       "\n",
       "    .dataframe thead th {\n",
       "        text-align: right;\n",
       "    }\n",
       "</style>\n",
       "<table border=\"1\" class=\"dataframe\">\n",
       "  <thead>\n",
       "    <tr style=\"text-align: right;\">\n",
       "      <th></th>\n",
       "      <th>Name</th>\n",
       "      <th>Age</th>\n",
       "      <th>ID</th>\n",
       "    </tr>\n",
       "  </thead>\n",
       "  <tbody>\n",
       "    <tr>\n",
       "      <th>0</th>\n",
       "      <td>Ahmad</td>\n",
       "      <td>22</td>\n",
       "      <td>0</td>\n",
       "    </tr>\n",
       "    <tr>\n",
       "      <th>1</th>\n",
       "      <td>Yasser</td>\n",
       "      <td>18</td>\n",
       "      <td>1</td>\n",
       "    </tr>\n",
       "    <tr>\n",
       "      <th>2</th>\n",
       "      <td>Mohamed</td>\n",
       "      <td>15</td>\n",
       "      <td>2</td>\n",
       "    </tr>\n",
       "    <tr>\n",
       "      <th>3</th>\n",
       "      <td>Raafat</td>\n",
       "      <td>22</td>\n",
       "      <td>3</td>\n",
       "    </tr>\n",
       "    <tr>\n",
       "      <th>4</th>\n",
       "      <td>Zaki</td>\n",
       "      <td>30</td>\n",
       "      <td>4</td>\n",
       "    </tr>\n",
       "    <tr>\n",
       "      <th>5</th>\n",
       "      <td>Eyad</td>\n",
       "      <td>21</td>\n",
       "      <td>5</td>\n",
       "    </tr>\n",
       "    <tr>\n",
       "      <th>6</th>\n",
       "      <td>Khaled</td>\n",
       "      <td>20</td>\n",
       "      <td>6</td>\n",
       "    </tr>\n",
       "    <tr>\n",
       "      <th>7</th>\n",
       "      <td>Ali</td>\n",
       "      <td>19</td>\n",
       "      <td>7</td>\n",
       "    </tr>\n",
       "    <tr>\n",
       "      <th>8</th>\n",
       "      <td>Moaz</td>\n",
       "      <td>35</td>\n",
       "      <td>8</td>\n",
       "    </tr>\n",
       "    <tr>\n",
       "      <th>9</th>\n",
       "      <td>Tamer</td>\n",
       "      <td>23</td>\n",
       "      <td>9</td>\n",
       "    </tr>\n",
       "  </tbody>\n",
       "</table>\n",
       "</div>"
      ],
      "text/plain": [
       "      Name  Age  ID\n",
       "0    Ahmad   22   0\n",
       "1   Yasser   18   1\n",
       "2  Mohamed   15   2\n",
       "3   Raafat   22   3\n",
       "4     Zaki   30   4\n",
       "5     Eyad   21   5\n",
       "6   Khaled   20   6\n",
       "7      Ali   19   7\n",
       "8     Moaz   35   8\n",
       "9    Tamer   23   9"
      ]
     },
     "execution_count": 14,
     "metadata": {},
     "output_type": "execute_result"
    }
   ],
   "source": [
    "columns=[\"Name\", \"Age\",\"Gender\"]\n",
    "dict1={\n",
    "    \"Name\":[\"Ahmad\",\"Yasser\",\"Mohamed\",\"Raafat\",\"Zaki\",\"Eyad\",\"Khaled\",\"Ali\",\"Moaz\",\"Tamer\"], \n",
    "    \"Age\":[22,18,15,22,30,21,20,19,35,23],\n",
    "    \"ID\":[i for i in range(10)]\n",
    "}\n",
    "df=pd.DataFrame(dict1)\n",
    "df"
   ]
  },
  {
   "cell_type": "code",
   "execution_count": 15,
   "id": "511f7826",
   "metadata": {
    "ExecuteTime": {
     "end_time": "2022-02-24T12:02:56.842026Z",
     "start_time": "2022-02-24T12:02:56.813043Z"
    }
   },
   "outputs": [
    {
     "data": {
      "text/html": [
       "<div>\n",
       "<style scoped>\n",
       "    .dataframe tbody tr th:only-of-type {\n",
       "        vertical-align: middle;\n",
       "    }\n",
       "\n",
       "    .dataframe tbody tr th {\n",
       "        vertical-align: top;\n",
       "    }\n",
       "\n",
       "    .dataframe thead th {\n",
       "        text-align: right;\n",
       "    }\n",
       "</style>\n",
       "<table border=\"1\" class=\"dataframe\">\n",
       "  <thead>\n",
       "    <tr style=\"text-align: right;\">\n",
       "      <th></th>\n",
       "      <th>Name</th>\n",
       "      <th>Age</th>\n",
       "      <th>ID</th>\n",
       "    </tr>\n",
       "  </thead>\n",
       "  <tbody>\n",
       "    <tr>\n",
       "      <th>1</th>\n",
       "      <td>Yasser</td>\n",
       "      <td>18</td>\n",
       "      <td>1</td>\n",
       "    </tr>\n",
       "    <tr>\n",
       "      <th>7</th>\n",
       "      <td>Ali</td>\n",
       "      <td>19</td>\n",
       "      <td>7</td>\n",
       "    </tr>\n",
       "    <tr>\n",
       "      <th>5</th>\n",
       "      <td>Eyad</td>\n",
       "      <td>21</td>\n",
       "      <td>5</td>\n",
       "    </tr>\n",
       "  </tbody>\n",
       "</table>\n",
       "</div>"
      ],
      "text/plain": [
       "     Name  Age  ID\n",
       "1  Yasser   18   1\n",
       "7     Ali   19   7\n",
       "5    Eyad   21   5"
      ]
     },
     "execution_count": 15,
     "metadata": {},
     "output_type": "execute_result"
    }
   ],
   "source": [
    "df2=pd.DataFrame(dict1).sample(n = 3) #n: number of rows\n",
    "df2 "
   ]
  },
  {
   "cell_type": "code",
   "execution_count": 16,
   "id": "4cd7f700",
   "metadata": {
    "ExecuteTime": {
     "end_time": "2022-02-24T12:02:58.125509Z",
     "start_time": "2022-02-24T12:02:58.106521Z"
    }
   },
   "outputs": [
    {
     "data": {
      "text/html": [
       "<div>\n",
       "<style scoped>\n",
       "    .dataframe tbody tr th:only-of-type {\n",
       "        vertical-align: middle;\n",
       "    }\n",
       "\n",
       "    .dataframe tbody tr th {\n",
       "        vertical-align: top;\n",
       "    }\n",
       "\n",
       "    .dataframe thead th {\n",
       "        text-align: right;\n",
       "    }\n",
       "</style>\n",
       "<table border=\"1\" class=\"dataframe\">\n",
       "  <thead>\n",
       "    <tr style=\"text-align: right;\">\n",
       "      <th></th>\n",
       "      <th>Name</th>\n",
       "      <th>Age</th>\n",
       "      <th>ID</th>\n",
       "    </tr>\n",
       "  </thead>\n",
       "  <tbody>\n",
       "    <tr>\n",
       "      <th>5</th>\n",
       "      <td>Eyad</td>\n",
       "      <td>21</td>\n",
       "      <td>5</td>\n",
       "    </tr>\n",
       "    <tr>\n",
       "      <th>3</th>\n",
       "      <td>Raafat</td>\n",
       "      <td>22</td>\n",
       "      <td>3</td>\n",
       "    </tr>\n",
       "    <tr>\n",
       "      <th>0</th>\n",
       "      <td>Ahmad</td>\n",
       "      <td>22</td>\n",
       "      <td>0</td>\n",
       "    </tr>\n",
       "    <tr>\n",
       "      <th>7</th>\n",
       "      <td>Ali</td>\n",
       "      <td>19</td>\n",
       "      <td>7</td>\n",
       "    </tr>\n",
       "    <tr>\n",
       "      <th>6</th>\n",
       "      <td>Khaled</td>\n",
       "      <td>20</td>\n",
       "      <td>6</td>\n",
       "    </tr>\n",
       "  </tbody>\n",
       "</table>\n",
       "</div>"
      ],
      "text/plain": [
       "     Name  Age  ID\n",
       "5    Eyad   21   5\n",
       "3  Raafat   22   3\n",
       "0   Ahmad   22   0\n",
       "7     Ali   19   7\n",
       "6  Khaled   20   6"
      ]
     },
     "execution_count": 16,
     "metadata": {},
     "output_type": "execute_result"
    }
   ],
   "source": [
    "#Randomly select a specified fraction of the total number of rows.\n",
    "#Setting frac=0.50, a random selection of 50% of the total rows will be returned\n",
    "\n",
    "df3=pd.DataFrame(dict1).sample(frac=0.5) \n",
    "df3"
   ]
  },
  {
   "cell_type": "markdown",
   "id": "00641dc6",
   "metadata": {},
   "source": [
    "<h3>Task 5: Save 2 columns last 3 rows</h3>"
   ]
  },
  {
   "cell_type": "code",
   "execution_count": 17,
   "id": "92ce320e",
   "metadata": {
    "ExecuteTime": {
     "end_time": "2022-02-24T12:02:59.758652Z",
     "start_time": "2022-02-24T12:02:59.720673Z"
    }
   },
   "outputs": [],
   "source": [
    "df[[\"Name\",\"Age\"]].iloc[-3:].to_csv(\"newdata.csv\", index=True) #selecting columns Name and Age, last 3 rows"
   ]
  },
  {
   "cell_type": "markdown",
   "id": "47c13690",
   "metadata": {},
   "source": [
    "<h3>Task 6: How to append on a csv or excel sheet </h3>"
   ]
  },
  {
   "cell_type": "code",
   "execution_count": 18,
   "id": "d8e8cd19",
   "metadata": {
    "ExecuteTime": {
     "end_time": "2022-02-24T12:03:00.880339Z",
     "start_time": "2022-02-24T12:03:00.862349Z"
    }
   },
   "outputs": [],
   "source": [
    "df2.to_csv(\"newdata.csv\", index=False,mode='a' ,header=False) #set mode to 'a'"
   ]
  },
  {
   "cell_type": "markdown",
   "id": "475d5624",
   "metadata": {},
   "source": [
    "<h1>Session 18</h1>\n",
    "<h3> Task 1: Replacing data in specific columns with specific values</h3>"
   ]
  },
  {
   "cell_type": "code",
   "execution_count": 19,
   "id": "2b129fb4",
   "metadata": {
    "ExecuteTime": {
     "end_time": "2022-02-24T12:03:02.040759Z",
     "start_time": "2022-02-24T12:03:02.009759Z"
    }
   },
   "outputs": [
    {
     "data": {
      "text/html": [
       "<div>\n",
       "<style scoped>\n",
       "    .dataframe tbody tr th:only-of-type {\n",
       "        vertical-align: middle;\n",
       "    }\n",
       "\n",
       "    .dataframe tbody tr th {\n",
       "        vertical-align: top;\n",
       "    }\n",
       "\n",
       "    .dataframe thead th {\n",
       "        text-align: right;\n",
       "    }\n",
       "</style>\n",
       "<table border=\"1\" class=\"dataframe\">\n",
       "  <thead>\n",
       "    <tr style=\"text-align: right;\">\n",
       "      <th></th>\n",
       "      <th>day</th>\n",
       "      <th>temperature</th>\n",
       "      <th>windspeed</th>\n",
       "      <th>event</th>\n",
       "    </tr>\n",
       "  </thead>\n",
       "  <tbody>\n",
       "    <tr>\n",
       "      <th>0</th>\n",
       "      <td>1/1/2017</td>\n",
       "      <td>32</td>\n",
       "      <td>6</td>\n",
       "      <td>Rain</td>\n",
       "    </tr>\n",
       "    <tr>\n",
       "      <th>1</th>\n",
       "      <td>1/2/2017</td>\n",
       "      <td>-99999</td>\n",
       "      <td>7</td>\n",
       "      <td>Sunny</td>\n",
       "    </tr>\n",
       "    <tr>\n",
       "      <th>2</th>\n",
       "      <td>1/3/2017</td>\n",
       "      <td>28</td>\n",
       "      <td>-99999</td>\n",
       "      <td>Snow</td>\n",
       "    </tr>\n",
       "    <tr>\n",
       "      <th>3</th>\n",
       "      <td>1/4/2017</td>\n",
       "      <td>-99999</td>\n",
       "      <td>7</td>\n",
       "      <td>0</td>\n",
       "    </tr>\n",
       "    <tr>\n",
       "      <th>4</th>\n",
       "      <td>1/5/2017</td>\n",
       "      <td>32</td>\n",
       "      <td>-99999</td>\n",
       "      <td>Rain</td>\n",
       "    </tr>\n",
       "    <tr>\n",
       "      <th>5</th>\n",
       "      <td>1/6/2017</td>\n",
       "      <td>31</td>\n",
       "      <td>2</td>\n",
       "      <td>Sunny</td>\n",
       "    </tr>\n",
       "    <tr>\n",
       "      <th>6</th>\n",
       "      <td>1/6/2017</td>\n",
       "      <td>34</td>\n",
       "      <td>5</td>\n",
       "      <td>0</td>\n",
       "    </tr>\n",
       "  </tbody>\n",
       "</table>\n",
       "</div>"
      ],
      "text/plain": [
       "        day  temperature  windspeed  event\n",
       "0  1/1/2017           32          6   Rain\n",
       "1  1/2/2017       -99999          7  Sunny\n",
       "2  1/3/2017           28     -99999   Snow\n",
       "3  1/4/2017       -99999          7      0\n",
       "4  1/5/2017           32     -99999   Rain\n",
       "5  1/6/2017           31          2  Sunny\n",
       "6  1/6/2017           34          5      0"
      ]
     },
     "execution_count": 19,
     "metadata": {},
     "output_type": "execute_result"
    }
   ],
   "source": [
    "df = pd.read_csv(\"weather_data.csv\")\n",
    "df"
   ]
  },
  {
   "cell_type": "code",
   "execution_count": 20,
   "id": "e0967049",
   "metadata": {
    "ExecuteTime": {
     "end_time": "2022-02-24T12:03:02.551298Z",
     "start_time": "2022-02-24T12:03:02.519319Z"
    }
   },
   "outputs": [
    {
     "data": {
      "text/html": [
       "<div>\n",
       "<style scoped>\n",
       "    .dataframe tbody tr th:only-of-type {\n",
       "        vertical-align: middle;\n",
       "    }\n",
       "\n",
       "    .dataframe tbody tr th {\n",
       "        vertical-align: top;\n",
       "    }\n",
       "\n",
       "    .dataframe thead th {\n",
       "        text-align: right;\n",
       "    }\n",
       "</style>\n",
       "<table border=\"1\" class=\"dataframe\">\n",
       "  <thead>\n",
       "    <tr style=\"text-align: right;\">\n",
       "      <th></th>\n",
       "      <th>day</th>\n",
       "      <th>temperature</th>\n",
       "      <th>windspeed</th>\n",
       "      <th>event</th>\n",
       "    </tr>\n",
       "  </thead>\n",
       "  <tbody>\n",
       "    <tr>\n",
       "      <th>0</th>\n",
       "      <td>1/1/2017</td>\n",
       "      <td>32</td>\n",
       "      <td>6</td>\n",
       "      <td>Rain</td>\n",
       "    </tr>\n",
       "    <tr>\n",
       "      <th>1</th>\n",
       "      <td>1/2/2017</td>\n",
       "      <td>30</td>\n",
       "      <td>7</td>\n",
       "      <td>Sunny</td>\n",
       "    </tr>\n",
       "    <tr>\n",
       "      <th>2</th>\n",
       "      <td>1/3/2017</td>\n",
       "      <td>28</td>\n",
       "      <td>5</td>\n",
       "      <td>Snow</td>\n",
       "    </tr>\n",
       "    <tr>\n",
       "      <th>3</th>\n",
       "      <td>1/4/2017</td>\n",
       "      <td>30</td>\n",
       "      <td>7</td>\n",
       "      <td>None</td>\n",
       "    </tr>\n",
       "    <tr>\n",
       "      <th>4</th>\n",
       "      <td>1/5/2017</td>\n",
       "      <td>32</td>\n",
       "      <td>5</td>\n",
       "      <td>Rain</td>\n",
       "    </tr>\n",
       "    <tr>\n",
       "      <th>5</th>\n",
       "      <td>1/6/2017</td>\n",
       "      <td>31</td>\n",
       "      <td>2</td>\n",
       "      <td>Sunny</td>\n",
       "    </tr>\n",
       "    <tr>\n",
       "      <th>6</th>\n",
       "      <td>1/6/2017</td>\n",
       "      <td>34</td>\n",
       "      <td>5</td>\n",
       "      <td>None</td>\n",
       "    </tr>\n",
       "  </tbody>\n",
       "</table>\n",
       "</div>"
      ],
      "text/plain": [
       "        day  temperature  windspeed  event\n",
       "0  1/1/2017           32          6   Rain\n",
       "1  1/2/2017           30          7  Sunny\n",
       "2  1/3/2017           28          5   Snow\n",
       "3  1/4/2017           30          7   None\n",
       "4  1/5/2017           32          5   Rain\n",
       "5  1/6/2017           31          2  Sunny\n",
       "6  1/6/2017           34          5   None"
      ]
     },
     "execution_count": 20,
     "metadata": {},
     "output_type": "execute_result"
    }
   ],
   "source": [
    "new_df = df.replace({\n",
    "        'temperature': -99999,\n",
    "        'windspeed': -99999,\n",
    "        'event': '0'\n",
    "    }, \n",
    "    {\n",
    "        'temperature': 30,\n",
    "        'windspeed': 5,\n",
    "        'event': 'None'\n",
    "    })\n",
    "new_df"
   ]
  },
  {
   "cell_type": "markdown",
   "id": "ca75455e",
   "metadata": {},
   "source": [
    "<h3>Task 4: How to reverse the effect of melt funtion in pandas</h3>"
   ]
  },
  {
   "cell_type": "code",
   "execution_count": 21,
   "id": "49d32ff2",
   "metadata": {
    "ExecuteTime": {
     "end_time": "2022-02-24T12:03:03.713152Z",
     "start_time": "2022-02-24T12:03:03.683170Z"
    }
   },
   "outputs": [
    {
     "data": {
      "text/html": [
       "<div>\n",
       "<style scoped>\n",
       "    .dataframe tbody tr th:only-of-type {\n",
       "        vertical-align: middle;\n",
       "    }\n",
       "\n",
       "    .dataframe tbody tr th {\n",
       "        vertical-align: top;\n",
       "    }\n",
       "\n",
       "    .dataframe thead th {\n",
       "        text-align: right;\n",
       "    }\n",
       "</style>\n",
       "<table border=\"1\" class=\"dataframe\">\n",
       "  <thead>\n",
       "    <tr style=\"text-align: right;\">\n",
       "      <th></th>\n",
       "      <th>day</th>\n",
       "      <th>chicago</th>\n",
       "      <th>chennai</th>\n",
       "      <th>berlin</th>\n",
       "    </tr>\n",
       "  </thead>\n",
       "  <tbody>\n",
       "    <tr>\n",
       "      <th>0</th>\n",
       "      <td>Monday</td>\n",
       "      <td>32</td>\n",
       "      <td>75</td>\n",
       "      <td>41</td>\n",
       "    </tr>\n",
       "    <tr>\n",
       "      <th>1</th>\n",
       "      <td>Tuesday</td>\n",
       "      <td>30</td>\n",
       "      <td>77</td>\n",
       "      <td>43</td>\n",
       "    </tr>\n",
       "    <tr>\n",
       "      <th>2</th>\n",
       "      <td>Wednesday</td>\n",
       "      <td>28</td>\n",
       "      <td>75</td>\n",
       "      <td>45</td>\n",
       "    </tr>\n",
       "    <tr>\n",
       "      <th>3</th>\n",
       "      <td>Thursday</td>\n",
       "      <td>22</td>\n",
       "      <td>82</td>\n",
       "      <td>38</td>\n",
       "    </tr>\n",
       "    <tr>\n",
       "      <th>4</th>\n",
       "      <td>Friday</td>\n",
       "      <td>30</td>\n",
       "      <td>83</td>\n",
       "      <td>30</td>\n",
       "    </tr>\n",
       "    <tr>\n",
       "      <th>5</th>\n",
       "      <td>Saturday</td>\n",
       "      <td>20</td>\n",
       "      <td>81</td>\n",
       "      <td>45</td>\n",
       "    </tr>\n",
       "    <tr>\n",
       "      <th>6</th>\n",
       "      <td>Sunday</td>\n",
       "      <td>25</td>\n",
       "      <td>77</td>\n",
       "      <td>47</td>\n",
       "    </tr>\n",
       "  </tbody>\n",
       "</table>\n",
       "</div>"
      ],
      "text/plain": [
       "         day  chicago  chennai  berlin\n",
       "0     Monday       32       75      41\n",
       "1    Tuesday       30       77      43\n",
       "2  Wednesday       28       75      45\n",
       "3   Thursday       22       82      38\n",
       "4     Friday       30       83      30\n",
       "5   Saturday       20       81      45\n",
       "6     Sunday       25       77      47"
      ]
     },
     "execution_count": 21,
     "metadata": {},
     "output_type": "execute_result"
    }
   ],
   "source": [
    "df2 = pd.read_csv(\"city_weather.csv\")\n",
    "df2"
   ]
  },
  {
   "cell_type": "code",
   "execution_count": 22,
   "id": "36fc9e95",
   "metadata": {
    "ExecuteTime": {
     "end_time": "2022-02-24T12:03:04.228146Z",
     "start_time": "2022-02-24T12:03:04.189168Z"
    }
   },
   "outputs": [
    {
     "data": {
      "text/html": [
       "<div>\n",
       "<style scoped>\n",
       "    .dataframe tbody tr th:only-of-type {\n",
       "        vertical-align: middle;\n",
       "    }\n",
       "\n",
       "    .dataframe tbody tr th {\n",
       "        vertical-align: top;\n",
       "    }\n",
       "\n",
       "    .dataframe thead th {\n",
       "        text-align: right;\n",
       "    }\n",
       "</style>\n",
       "<table border=\"1\" class=\"dataframe\">\n",
       "  <thead>\n",
       "    <tr style=\"text-align: right;\">\n",
       "      <th></th>\n",
       "      <th>day</th>\n",
       "      <th>city</th>\n",
       "      <th>temp</th>\n",
       "    </tr>\n",
       "  </thead>\n",
       "  <tbody>\n",
       "    <tr>\n",
       "      <th>0</th>\n",
       "      <td>Monday</td>\n",
       "      <td>chicago</td>\n",
       "      <td>32</td>\n",
       "    </tr>\n",
       "    <tr>\n",
       "      <th>1</th>\n",
       "      <td>Tuesday</td>\n",
       "      <td>chicago</td>\n",
       "      <td>30</td>\n",
       "    </tr>\n",
       "    <tr>\n",
       "      <th>2</th>\n",
       "      <td>Wednesday</td>\n",
       "      <td>chicago</td>\n",
       "      <td>28</td>\n",
       "    </tr>\n",
       "    <tr>\n",
       "      <th>3</th>\n",
       "      <td>Thursday</td>\n",
       "      <td>chicago</td>\n",
       "      <td>22</td>\n",
       "    </tr>\n",
       "    <tr>\n",
       "      <th>4</th>\n",
       "      <td>Friday</td>\n",
       "      <td>chicago</td>\n",
       "      <td>30</td>\n",
       "    </tr>\n",
       "    <tr>\n",
       "      <th>5</th>\n",
       "      <td>Saturday</td>\n",
       "      <td>chicago</td>\n",
       "      <td>20</td>\n",
       "    </tr>\n",
       "    <tr>\n",
       "      <th>6</th>\n",
       "      <td>Sunday</td>\n",
       "      <td>chicago</td>\n",
       "      <td>25</td>\n",
       "    </tr>\n",
       "    <tr>\n",
       "      <th>7</th>\n",
       "      <td>Monday</td>\n",
       "      <td>chennai</td>\n",
       "      <td>75</td>\n",
       "    </tr>\n",
       "    <tr>\n",
       "      <th>8</th>\n",
       "      <td>Tuesday</td>\n",
       "      <td>chennai</td>\n",
       "      <td>77</td>\n",
       "    </tr>\n",
       "    <tr>\n",
       "      <th>9</th>\n",
       "      <td>Wednesday</td>\n",
       "      <td>chennai</td>\n",
       "      <td>75</td>\n",
       "    </tr>\n",
       "    <tr>\n",
       "      <th>10</th>\n",
       "      <td>Thursday</td>\n",
       "      <td>chennai</td>\n",
       "      <td>82</td>\n",
       "    </tr>\n",
       "    <tr>\n",
       "      <th>11</th>\n",
       "      <td>Friday</td>\n",
       "      <td>chennai</td>\n",
       "      <td>83</td>\n",
       "    </tr>\n",
       "    <tr>\n",
       "      <th>12</th>\n",
       "      <td>Saturday</td>\n",
       "      <td>chennai</td>\n",
       "      <td>81</td>\n",
       "    </tr>\n",
       "    <tr>\n",
       "      <th>13</th>\n",
       "      <td>Sunday</td>\n",
       "      <td>chennai</td>\n",
       "      <td>77</td>\n",
       "    </tr>\n",
       "    <tr>\n",
       "      <th>14</th>\n",
       "      <td>Monday</td>\n",
       "      <td>berlin</td>\n",
       "      <td>41</td>\n",
       "    </tr>\n",
       "    <tr>\n",
       "      <th>15</th>\n",
       "      <td>Tuesday</td>\n",
       "      <td>berlin</td>\n",
       "      <td>43</td>\n",
       "    </tr>\n",
       "    <tr>\n",
       "      <th>16</th>\n",
       "      <td>Wednesday</td>\n",
       "      <td>berlin</td>\n",
       "      <td>45</td>\n",
       "    </tr>\n",
       "    <tr>\n",
       "      <th>17</th>\n",
       "      <td>Thursday</td>\n",
       "      <td>berlin</td>\n",
       "      <td>38</td>\n",
       "    </tr>\n",
       "    <tr>\n",
       "      <th>18</th>\n",
       "      <td>Friday</td>\n",
       "      <td>berlin</td>\n",
       "      <td>30</td>\n",
       "    </tr>\n",
       "    <tr>\n",
       "      <th>19</th>\n",
       "      <td>Saturday</td>\n",
       "      <td>berlin</td>\n",
       "      <td>45</td>\n",
       "    </tr>\n",
       "    <tr>\n",
       "      <th>20</th>\n",
       "      <td>Sunday</td>\n",
       "      <td>berlin</td>\n",
       "      <td>47</td>\n",
       "    </tr>\n",
       "  </tbody>\n",
       "</table>\n",
       "</div>"
      ],
      "text/plain": [
       "          day     city  temp\n",
       "0      Monday  chicago    32\n",
       "1     Tuesday  chicago    30\n",
       "2   Wednesday  chicago    28\n",
       "3    Thursday  chicago    22\n",
       "4      Friday  chicago    30\n",
       "5    Saturday  chicago    20\n",
       "6      Sunday  chicago    25\n",
       "7      Monday  chennai    75\n",
       "8     Tuesday  chennai    77\n",
       "9   Wednesday  chennai    75\n",
       "10   Thursday  chennai    82\n",
       "11     Friday  chennai    83\n",
       "12   Saturday  chennai    81\n",
       "13     Sunday  chennai    77\n",
       "14     Monday   berlin    41\n",
       "15    Tuesday   berlin    43\n",
       "16  Wednesday   berlin    45\n",
       "17   Thursday   berlin    38\n",
       "18     Friday   berlin    30\n",
       "19   Saturday   berlin    45\n",
       "20     Sunday   berlin    47"
      ]
     },
     "execution_count": 22,
     "metadata": {},
     "output_type": "execute_result"
    }
   ],
   "source": [
    "melted = pd.melt(df2, id_vars=[\"day\"], var_name='city', value_name='temp')\n",
    "melted"
   ]
  },
  {
   "cell_type": "code",
   "execution_count": 23,
   "id": "450931db",
   "metadata": {
    "ExecuteTime": {
     "end_time": "2022-02-24T12:03:04.775110Z",
     "start_time": "2022-02-24T12:03:04.712146Z"
    }
   },
   "outputs": [
    {
     "data": {
      "text/html": [
       "<div>\n",
       "<style scoped>\n",
       "    .dataframe tbody tr th:only-of-type {\n",
       "        vertical-align: middle;\n",
       "    }\n",
       "\n",
       "    .dataframe tbody tr th {\n",
       "        vertical-align: top;\n",
       "    }\n",
       "\n",
       "    .dataframe thead tr th {\n",
       "        text-align: left;\n",
       "    }\n",
       "\n",
       "    .dataframe thead tr:last-of-type th {\n",
       "        text-align: right;\n",
       "    }\n",
       "</style>\n",
       "<table border=\"1\" class=\"dataframe\">\n",
       "  <thead>\n",
       "    <tr>\n",
       "      <th></th>\n",
       "      <th colspan=\"3\" halign=\"left\">temp</th>\n",
       "    </tr>\n",
       "    <tr>\n",
       "      <th>city</th>\n",
       "      <th>berlin</th>\n",
       "      <th>chennai</th>\n",
       "      <th>chicago</th>\n",
       "    </tr>\n",
       "    <tr>\n",
       "      <th>day</th>\n",
       "      <th></th>\n",
       "      <th></th>\n",
       "      <th></th>\n",
       "    </tr>\n",
       "  </thead>\n",
       "  <tbody>\n",
       "    <tr>\n",
       "      <th>Friday</th>\n",
       "      <td>30</td>\n",
       "      <td>83</td>\n",
       "      <td>30</td>\n",
       "    </tr>\n",
       "    <tr>\n",
       "      <th>Monday</th>\n",
       "      <td>41</td>\n",
       "      <td>75</td>\n",
       "      <td>32</td>\n",
       "    </tr>\n",
       "    <tr>\n",
       "      <th>Saturday</th>\n",
       "      <td>45</td>\n",
       "      <td>81</td>\n",
       "      <td>20</td>\n",
       "    </tr>\n",
       "    <tr>\n",
       "      <th>Sunday</th>\n",
       "      <td>47</td>\n",
       "      <td>77</td>\n",
       "      <td>25</td>\n",
       "    </tr>\n",
       "    <tr>\n",
       "      <th>Thursday</th>\n",
       "      <td>38</td>\n",
       "      <td>82</td>\n",
       "      <td>22</td>\n",
       "    </tr>\n",
       "    <tr>\n",
       "      <th>Tuesday</th>\n",
       "      <td>43</td>\n",
       "      <td>77</td>\n",
       "      <td>30</td>\n",
       "    </tr>\n",
       "    <tr>\n",
       "      <th>Wednesday</th>\n",
       "      <td>45</td>\n",
       "      <td>75</td>\n",
       "      <td>28</td>\n",
       "    </tr>\n",
       "  </tbody>\n",
       "</table>\n",
       "</div>"
      ],
      "text/plain": [
       "            temp                \n",
       "city      berlin chennai chicago\n",
       "day                             \n",
       "Friday        30      83      30\n",
       "Monday        41      75      32\n",
       "Saturday      45      81      20\n",
       "Sunday        47      77      25\n",
       "Thursday      38      82      22\n",
       "Tuesday       43      77      30\n",
       "Wednesday     45      75      28"
      ]
     },
     "execution_count": 23,
     "metadata": {},
     "output_type": "execute_result"
    }
   ],
   "source": [
    "melted.pivot(index='day',columns='city')"
   ]
  },
  {
   "cell_type": "markdown",
   "id": "6dc1b0cb",
   "metadata": {},
   "source": [
    "<h3>Task 5: Adding holiday and custom business days to Calender</h3>"
   ]
  },
  {
   "cell_type": "code",
   "execution_count": 24,
   "id": "d0ed266a",
   "metadata": {
    "ExecuteTime": {
     "end_time": "2022-02-24T12:03:05.765282Z",
     "start_time": "2022-02-24T12:03:05.739297Z"
    }
   },
   "outputs": [],
   "source": [
    "from pandas.tseries.offsets import CustomBusinessDay\n",
    "from pandas.tseries.holiday import AbstractHolidayCalendar, nearest_workday, Holiday"
   ]
  },
  {
   "cell_type": "code",
   "execution_count": 25,
   "id": "2bd2e712",
   "metadata": {
    "ExecuteTime": {
     "end_time": "2022-02-24T12:03:06.750412Z",
     "start_time": "2022-02-24T12:03:06.736421Z"
    }
   },
   "outputs": [],
   "source": [
    "egypt_weekdays = \"Sun Mon Tue Wed Thu\"\n",
    "class myCalendar(AbstractHolidayCalendar):\n",
    "    rules = [\n",
    "        Holiday('My Birth Day', month=9, day=18)#, observance=nearest_workday),\n",
    "    ]"
   ]
  },
  {
   "cell_type": "code",
   "execution_count": 26,
   "id": "d09d3146",
   "metadata": {
    "ExecuteTime": {
     "end_time": "2022-02-24T12:03:08.005030Z",
     "start_time": "2022-02-24T12:03:07.927074Z"
    }
   },
   "outputs": [
    {
     "data": {
      "text/plain": [
       "DatetimeIndex(['2017-09-03', '2017-09-04', '2017-09-05', '2017-09-06',\n",
       "               '2017-09-07', '2017-09-10', '2017-09-11', '2017-09-12',\n",
       "               '2017-09-13', '2017-09-14', '2017-09-17', '2017-09-19',\n",
       "               '2017-09-20', '2017-09-21', '2017-09-24', '2017-09-25',\n",
       "               '2017-09-26', '2017-09-27', '2017-09-28'],\n",
       "              dtype='datetime64[ns]', freq='C')"
      ]
     },
     "execution_count": 26,
     "metadata": {},
     "output_type": "execute_result"
    }
   ],
   "source": [
    "custom = CustomBusinessDay(calendar=myCalendar(),weekmask=egypt_weekdays)\n",
    "\n",
    "pd.date_range(start=\"9/1/2017\", end=\"9/30/2017\", freq=custom)"
   ]
  }
 ],
 "metadata": {
  "kernelspec": {
   "display_name": "Python 3",
   "language": "python",
   "name": "python3"
  },
  "language_info": {
   "codemirror_mode": {
    "name": "ipython",
    "version": 3
   },
   "file_extension": ".py",
   "mimetype": "text/x-python",
   "name": "python",
   "nbconvert_exporter": "python",
   "pygments_lexer": "ipython3",
   "version": "3.8.8"
  }
 },
 "nbformat": 4,
 "nbformat_minor": 5
}
